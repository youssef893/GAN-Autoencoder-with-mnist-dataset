{
  "nbformat": 4,
  "nbformat_minor": 0,
  "metadata": {
    "colab": {
      "name": "Untitled8.ipynb",
      "provenance": [],
      "authorship_tag": "ABX9TyPsyZEwnAJ20Eo8j9IuVzia",
      "include_colab_link": true
    },
    "kernelspec": {
      "name": "python3",
      "display_name": "Python 3"
    },
    "language_info": {
      "name": "python"
    },
    "accelerator": "GPU"
  },
  "cells": [
    {
      "cell_type": "markdown",
      "metadata": {
        "id": "view-in-github",
        "colab_type": "text"
      },
      "source": [
        "<a href=\"https://colab.research.google.com/github/youssef893/GAN-Autoencoder-with-mnist-dataset/blob/main/GAN-Autoencoder-with-mnist-dataset.ipynb\" target=\"_parent\"><img src=\"https://colab.research.google.com/assets/colab-badge.svg\" alt=\"Open In Colab\"/></a>"
      ]
    },
    {
      "cell_type": "code",
      "metadata": {
        "id": "vt3upMzjC_W7"
      },
      "source": [
        "# Youssef Sayed Ahmed 20180342\n",
        "# Ahmed Mostafa Abd El-karim 20180031\n",
        "\n",
        "\n",
        "import keras\n",
        "from keras import layers\n",
        "import matplotlib.pyplot as plt\n",
        "from keras.datasets import mnist\n",
        "import numpy as np\n",
        "from sklearn.metrics import mean_squared_error\n",
        "from keras.layers import LeakyReLU"
      ],
      "execution_count": null,
      "outputs": []
    },
    {
      "cell_type": "code",
      "metadata": {
        "colab": {
          "base_uri": "https://localhost:8080/"
        },
        "id": "NZb6aYC6DCUr",
        "outputId": "7937b7e9-4472-4ec5-93e3-e534c705e6ca"
      },
      "source": [
        "def build_auto_encoder():\n",
        "  input_img = keras.Input(shape=(28, 28, 1))\n",
        "\n",
        "  hidden = layers.Conv2D(16, (3, 3), activation='relu', padding='same')(input_img)\n",
        "  hidden = layers.MaxPooling2D((2, 2), padding='same')(hidden)\n",
        "\n",
        "  hidden = layers.Conv2D(8, (3, 3), activation='relu', padding='same')(hidden)\n",
        "  encoded = layers.MaxPooling2D((2, 2), padding='same')(hidden)\n",
        "\n",
        "  hidden = layers.UpSampling2D((2, 2))(encoded)\n",
        "  hidden = layers.UpSampling2D((2, 2))(hidden)\n",
        "\n",
        "  decoded = layers.Conv2D(1, (3, 3), activation='relu', padding='same')(hidden)\n",
        "\n",
        "  autoencoder = keras.Model(input_img, decoded)\n",
        "  autoencoder.compile(optimizer='adam', loss='mean_squared_error')\n",
        "  autoencoder.summary()\n",
        "  return autoencoder, input_img, encoded\n",
        "\n",
        "\n",
        "autoencoder, input_img, encoded = build_auto_encoder()"
      ],
      "execution_count": null,
      "outputs": [
        {
          "output_type": "stream",
          "name": "stdout",
          "text": [
            "Model: \"model\"\n",
            "_________________________________________________________________\n",
            " Layer (type)                Output Shape              Param #   \n",
            "=================================================================\n",
            " input_1 (InputLayer)        [(None, 28, 28, 1)]       0         \n",
            "                                                                 \n",
            " conv2d (Conv2D)             (None, 28, 28, 16)        160       \n",
            "                                                                 \n",
            " max_pooling2d (MaxPooling2D  (None, 14, 14, 16)       0         \n",
            " )                                                               \n",
            "                                                                 \n",
            " conv2d_1 (Conv2D)           (None, 14, 14, 8)         1160      \n",
            "                                                                 \n",
            " max_pooling2d_1 (MaxPooling  (None, 7, 7, 8)          0         \n",
            " 2D)                                                             \n",
            "                                                                 \n",
            " up_sampling2d (UpSampling2D  (None, 14, 14, 8)        0         \n",
            " )                                                               \n",
            "                                                                 \n",
            " up_sampling2d_1 (UpSampling  (None, 28, 28, 8)        0         \n",
            " 2D)                                                             \n",
            "                                                                 \n",
            " conv2d_2 (Conv2D)           (None, 28, 28, 1)         73        \n",
            "                                                                 \n",
            "=================================================================\n",
            "Total params: 1,393\n",
            "Trainable params: 1,393\n",
            "Non-trainable params: 0\n",
            "_________________________________________________________________\n"
          ]
        }
      ]
    },
    {
      "cell_type": "code",
      "metadata": {
        "id": "ZEV8CMJSDHyw"
      },
      "source": [
        "def read_data():\n",
        "  (x_train, _), (x_test, _) = mnist.load_data()\n",
        "\n",
        "  x_train = x_train.astype('float32') / 255.\n",
        "  x_test = x_test.astype('float32') / 255.\n",
        "  x_train = np.reshape(x_train, (len(x_train), 28, 28, 1))\n",
        "  x_test = np.reshape(x_test, (len(x_test), 28, 28, 1))\n",
        "  return x_train, x_test\n",
        "\n",
        "\n",
        "x_train, x_test = read_data()"
      ],
      "execution_count": null,
      "outputs": []
    },
    {
      "cell_type": "code",
      "metadata": {
        "colab": {
          "base_uri": "https://localhost:8080/"
        },
        "id": "gj_P_mccDKSQ",
        "outputId": "506f97e5-0440-434f-9d6c-15d2cb7dd47f"
      },
      "source": [
        "autoencoder.fit(x_train, x_train,\n",
        "                epochs=50,  # 5, #50,\n",
        "                batch_size=256,\n",
        "                shuffle=True,\n",
        "                validation_data=(x_test, x_test))"
      ],
      "execution_count": null,
      "outputs": [
        {
          "output_type": "stream",
          "name": "stdout",
          "text": [
            "Epoch 1/50\n",
            "235/235 [==============================] - 5s 13ms/step - loss: 0.0263 - val_loss: 0.0172\n",
            "Epoch 2/50\n",
            "235/235 [==============================] - 3s 11ms/step - loss: 0.0163 - val_loss: 0.0152\n",
            "Epoch 3/50\n",
            "235/235 [==============================] - 3s 11ms/step - loss: 0.0150 - val_loss: 0.0144\n",
            "Epoch 4/50\n",
            "235/235 [==============================] - 3s 11ms/step - loss: 0.0143 - val_loss: 0.0138\n",
            "Epoch 5/50\n",
            "235/235 [==============================] - 3s 11ms/step - loss: 0.0139 - val_loss: 0.0135\n",
            "Epoch 6/50\n",
            "235/235 [==============================] - 3s 11ms/step - loss: 0.0136 - val_loss: 0.0132\n",
            "Epoch 7/50\n",
            "235/235 [==============================] - 3s 11ms/step - loss: 0.0134 - val_loss: 0.0131\n",
            "Epoch 8/50\n",
            "235/235 [==============================] - 3s 11ms/step - loss: 0.0133 - val_loss: 0.0130\n",
            "Epoch 9/50\n",
            "235/235 [==============================] - 3s 11ms/step - loss: 0.0131 - val_loss: 0.0129\n",
            "Epoch 10/50\n",
            "235/235 [==============================] - 3s 11ms/step - loss: 0.0131 - val_loss: 0.0128\n",
            "Epoch 11/50\n",
            "235/235 [==============================] - 3s 11ms/step - loss: 0.0130 - val_loss: 0.0127\n",
            "Epoch 12/50\n",
            "235/235 [==============================] - 3s 11ms/step - loss: 0.0129 - val_loss: 0.0127\n",
            "Epoch 13/50\n",
            "235/235 [==============================] - 3s 11ms/step - loss: 0.0129 - val_loss: 0.0127\n",
            "Epoch 14/50\n",
            "235/235 [==============================] - 3s 11ms/step - loss: 0.0128 - val_loss: 0.0126\n",
            "Epoch 15/50\n",
            "235/235 [==============================] - 3s 11ms/step - loss: 0.0128 - val_loss: 0.0126\n",
            "Epoch 16/50\n",
            "235/235 [==============================] - 3s 11ms/step - loss: 0.0128 - val_loss: 0.0125\n",
            "Epoch 17/50\n",
            "235/235 [==============================] - 3s 12ms/step - loss: 0.0127 - val_loss: 0.0125\n",
            "Epoch 18/50\n",
            "235/235 [==============================] - 3s 11ms/step - loss: 0.0127 - val_loss: 0.0125\n",
            "Epoch 19/50\n",
            "235/235 [==============================] - 3s 11ms/step - loss: 0.0127 - val_loss: 0.0125\n",
            "Epoch 20/50\n",
            "235/235 [==============================] - 3s 11ms/step - loss: 0.0127 - val_loss: 0.0124\n",
            "Epoch 21/50\n",
            "235/235 [==============================] - 3s 11ms/step - loss: 0.0126 - val_loss: 0.0125\n",
            "Epoch 22/50\n",
            "235/235 [==============================] - 2s 11ms/step - loss: 0.0126 - val_loss: 0.0124\n",
            "Epoch 23/50\n",
            "235/235 [==============================] - 3s 11ms/step - loss: 0.0126 - val_loss: 0.0124\n",
            "Epoch 24/50\n",
            "235/235 [==============================] - 3s 11ms/step - loss: 0.0126 - val_loss: 0.0124\n",
            "Epoch 25/50\n",
            "235/235 [==============================] - 3s 11ms/step - loss: 0.0126 - val_loss: 0.0124\n",
            "Epoch 26/50\n",
            "235/235 [==============================] - 3s 11ms/step - loss: 0.0126 - val_loss: 0.0124\n",
            "Epoch 27/50\n",
            "235/235 [==============================] - 3s 11ms/step - loss: 0.0126 - val_loss: 0.0123\n",
            "Epoch 28/50\n",
            "235/235 [==============================] - 3s 11ms/step - loss: 0.0126 - val_loss: 0.0123\n",
            "Epoch 29/50\n",
            "235/235 [==============================] - 3s 11ms/step - loss: 0.0125 - val_loss: 0.0123\n",
            "Epoch 30/50\n",
            "235/235 [==============================] - 3s 11ms/step - loss: 0.0125 - val_loss: 0.0123\n",
            "Epoch 31/50\n",
            "235/235 [==============================] - 3s 11ms/step - loss: 0.0125 - val_loss: 0.0123\n",
            "Epoch 32/50\n",
            "235/235 [==============================] - 3s 11ms/step - loss: 0.0125 - val_loss: 0.0123\n",
            "Epoch 33/50\n",
            "235/235 [==============================] - 3s 11ms/step - loss: 0.0125 - val_loss: 0.0123\n",
            "Epoch 34/50\n",
            "235/235 [==============================] - 3s 11ms/step - loss: 0.0125 - val_loss: 0.0123\n",
            "Epoch 35/50\n",
            "235/235 [==============================] - 3s 11ms/step - loss: 0.0125 - val_loss: 0.0123\n",
            "Epoch 36/50\n",
            "235/235 [==============================] - 3s 11ms/step - loss: 0.0125 - val_loss: 0.0123\n",
            "Epoch 37/50\n",
            "235/235 [==============================] - 3s 11ms/step - loss: 0.0125 - val_loss: 0.0122\n",
            "Epoch 38/50\n",
            "235/235 [==============================] - 3s 12ms/step - loss: 0.0125 - val_loss: 0.0123\n",
            "Epoch 39/50\n",
            "235/235 [==============================] - 3s 11ms/step - loss: 0.0124 - val_loss: 0.0123\n",
            "Epoch 40/50\n",
            "235/235 [==============================] - 3s 11ms/step - loss: 0.0124 - val_loss: 0.0122\n",
            "Epoch 41/50\n",
            "235/235 [==============================] - 3s 11ms/step - loss: 0.0124 - val_loss: 0.0122\n",
            "Epoch 42/50\n",
            "235/235 [==============================] - 3s 11ms/step - loss: 0.0124 - val_loss: 0.0123\n",
            "Epoch 43/50\n",
            "235/235 [==============================] - 3s 11ms/step - loss: 0.0124 - val_loss: 0.0122\n",
            "Epoch 44/50\n",
            "235/235 [==============================] - 3s 11ms/step - loss: 0.0124 - val_loss: 0.0122\n",
            "Epoch 45/50\n",
            "235/235 [==============================] - 3s 11ms/step - loss: 0.0124 - val_loss: 0.0122\n",
            "Epoch 46/50\n",
            "235/235 [==============================] - 3s 11ms/step - loss: 0.0124 - val_loss: 0.0122\n",
            "Epoch 47/50\n",
            "235/235 [==============================] - 3s 11ms/step - loss: 0.0124 - val_loss: 0.0122\n",
            "Epoch 48/50\n",
            "235/235 [==============================] - 3s 11ms/step - loss: 0.0124 - val_loss: 0.0122\n",
            "Epoch 49/50\n",
            "235/235 [==============================] - 3s 11ms/step - loss: 0.0124 - val_loss: 0.0122\n",
            "Epoch 50/50\n",
            "235/235 [==============================] - 3s 11ms/step - loss: 0.0124 - val_loss: 0.0122\n"
          ]
        },
        {
          "output_type": "execute_result",
          "data": {
            "text/plain": [
              "<keras.callbacks.History at 0x7f8c401c6bd0>"
            ]
          },
          "metadata": {},
          "execution_count": 4
        }
      ]
    },
    {
      "cell_type": "code",
      "metadata": {
        "colab": {
          "base_uri": "https://localhost:8080/"
        },
        "id": "_1jzTpwKDTe4",
        "outputId": "42eb3194-2dcd-4cdc-ead5-b88e599d4fd6"
      },
      "source": [
        "def encoder_model():\n",
        "  encoder = keras.Model(input_img, encoded)\n",
        "  encoded_imgs = encoder.predict(x_test)\n",
        "  encoder.summary()\n",
        "  print(len(encoder.layers))\n",
        "  return encoded_imgs\n",
        "\n",
        "\n",
        "encoded_imgs = encoder_model()"
      ],
      "execution_count": null,
      "outputs": [
        {
          "output_type": "stream",
          "name": "stdout",
          "text": [
            "Model: \"model_1\"\n",
            "_________________________________________________________________\n",
            " Layer (type)                Output Shape              Param #   \n",
            "=================================================================\n",
            " input_1 (InputLayer)        [(None, 28, 28, 1)]       0         \n",
            "                                                                 \n",
            " conv2d (Conv2D)             (None, 28, 28, 16)        160       \n",
            "                                                                 \n",
            " max_pooling2d (MaxPooling2D  (None, 14, 14, 16)       0         \n",
            " )                                                               \n",
            "                                                                 \n",
            " conv2d_1 (Conv2D)           (None, 14, 14, 8)         1160      \n",
            "                                                                 \n",
            " max_pooling2d_1 (MaxPooling  (None, 7, 7, 8)          0         \n",
            " 2D)                                                             \n",
            "                                                                 \n",
            "=================================================================\n",
            "Total params: 1,320\n",
            "Trainable params: 1,320\n",
            "Non-trainable params: 0\n",
            "_________________________________________________________________\n",
            "5\n"
          ]
        }
      ]
    },
    {
      "cell_type": "code",
      "metadata": {
        "colab": {
          "base_uri": "https://localhost:8080/"
        },
        "id": "Wlb8X825NoJ3",
        "outputId": "032ada7b-dd32-4c89-98f2-e5006fda79de"
      },
      "source": [
        "def decoder_model():\n",
        "  decoder = keras.Sequential()\n",
        "  decoder.add(keras.layers.Input(shape=(7, 7, 8)))\n",
        "  for i in range(5,len(autoencoder.layers)):\n",
        "    decoder.add(autoencoder.layers[i])\n",
        "  print(decoder.summary())\n",
        "  return decoder\n",
        "\n",
        "\n",
        "decoder = decoder_model()"
      ],
      "execution_count": null,
      "outputs": [
        {
          "output_type": "stream",
          "name": "stdout",
          "text": [
            "Model: \"sequential\"\n",
            "_________________________________________________________________\n",
            " Layer (type)                Output Shape              Param #   \n",
            "=================================================================\n",
            " up_sampling2d (UpSampling2D  (None, 14, 14, 8)        0         \n",
            " )                                                               \n",
            "                                                                 \n",
            " up_sampling2d_1 (UpSampling  (None, 28, 28, 8)        0         \n",
            " 2D)                                                             \n",
            "                                                                 \n",
            " conv2d_2 (Conv2D)           (None, 28, 28, 1)         73        \n",
            "                                                                 \n",
            "=================================================================\n",
            "Total params: 73\n",
            "Trainable params: 73\n",
            "Non-trainable params: 0\n",
            "_________________________________________________________________\n",
            "None\n"
          ]
        }
      ]
    },
    {
      "cell_type": "code",
      "metadata": {
        "colab": {
          "base_uri": "https://localhost:8080/"
        },
        "id": "JqoIFc-IQe4_",
        "outputId": "bb28ac5d-b96f-4c5f-9a49-0e5a84cf5ed6"
      },
      "source": [
        "def test_model(x_test):\n",
        "  x_test = x_test.reshape(10000, 28*28)\n",
        "\n",
        "  decoded_imgs = decoder.predict(encoded_imgs)\n",
        "  decoded_imgs = decoded_imgs.reshape(10000, 28*28)\n",
        "  print(decoded_imgs.shape)\n",
        "  print(mean_squared_error(x_test, decoded_imgs))\n",
        "  return decoded_imgs\n",
        "\n",
        "\n",
        "decoded_imgs = test_model(x_test)\n",
        "print(decoded_imgs)"
      ],
      "execution_count": null,
      "outputs": [
        {
          "output_type": "stream",
          "name": "stdout",
          "text": [
            "(10000, 784)\n",
            "0.012165919\n",
            "[[0. 0. 0. ... 0. 0. 0.]\n",
            " [0. 0. 0. ... 0. 0. 0.]\n",
            " [0. 0. 0. ... 0. 0. 0.]\n",
            " ...\n",
            " [0. 0. 0. ... 0. 0. 0.]\n",
            " [0. 0. 0. ... 0. 0. 0.]\n",
            " [0. 0. 0. ... 0. 0. 0.]]\n"
          ]
        }
      ]
    },
    {
      "cell_type": "code",
      "metadata": {
        "colab": {
          "base_uri": "https://localhost:8080/",
          "height": 248
        },
        "id": "2o_i3szODRS5",
        "outputId": "b98e4489-b68b-478a-d3d8-85ca1f267a7c"
      },
      "source": [
        "def plot_decoding_imgs():\n",
        "  n = 10\n",
        "  plt.figure(figsize=(20, 4))\n",
        "  for i in range(1, n + 1):\n",
        "      # Display original\n",
        "      ax = plt.subplot(2, n, i)\n",
        "      plt.imshow(x_test[i].reshape(28, 28))\n",
        "      plt.gray()\n",
        "      ax.get_xaxis().set_visible(False)\n",
        "      ax.get_yaxis().set_visible(False)\n",
        "\n",
        "      # Display reconstruction\n",
        "      ax = plt.subplot(2, n, i + n)\n",
        "      plt.imshow(decoded_imgs[i].reshape(28, 28))\n",
        "      plt.gray()\n",
        "      ax.get_xaxis().set_visible(False)\n",
        "      ax.get_yaxis().set_visible(False)\n",
        "  plt.show()\n",
        "\n",
        "\n",
        "\n",
        "plot_decoding_imgs()"
      ],
      "execution_count": null,
      "outputs": [
        {
          "output_type": "display_data",
          "data": {
            "image/png": "[encoded data removed]",
            "text/plain": [
              "<Figure size 1440x288 with 20 Axes>"
            ]
          },
          "metadata": {
            "needs_background": "light"
          }
        }
      ]
    },
    {
      "cell_type": "code",
      "metadata": {
        "colab": {
          "base_uri": "https://localhost:8080/",
          "height": 129
        },
        "id": "F0ZSAfieDT8f",
        "outputId": "ae5bae86-220b-425e-b614-76c83ea7c640"
      },
      "source": [
        "def plot_encoded_imgs():\n",
        "  n = 10\n",
        "  plt.figure(figsize=(20, 8))\n",
        "  for i in range(1, n + 1):\n",
        "      ax = plt.subplot(1, n, i)\n",
        "      plt.imshow(encoded_imgs[i, :, :, 4].reshape((7, 7)))\n",
        "      # plt.imshow(encoded_imgs[i].reshape((14 * 14 , 16)))\n",
        "      plt.gray()\n",
        "      ax.get_xaxis().set_visible(False)\n",
        "      ax.get_yaxis().set_visible(False)\n",
        "  plt.show()\n",
        "\n",
        "\n",
        "plot_encoded_imgs()"
      ],
      "execution_count": null,
      "outputs": [
        {
          "output_type": "display_data",
          "data": {
            "image/png": "[encoded data removed]",
            "text/plain": [
              "<Figure size 1440x576 with 10 Axes>"
            ]
          },
          "metadata": {
            "needs_background": "light"
          }
        }
      ]
    }
  ]
}